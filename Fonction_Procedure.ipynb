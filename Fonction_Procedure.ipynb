{
 "cells": [
  {
   "cell_type": "markdown",
   "metadata": {
    "id": "kQXsyv7wNI38"
   },
   "source": [
    "<div style=\"height:130px; width:100%;border-collapse:separate;border:solid 2px;border-radius:14px;\">\n",
    "\n",
    "\n",
    "<img src=\"https://github.com/FredVar/images/blob/master/Python-fonction.png?raw=true\" width=\"200\" height=\"200\" align=\"left\"/>\n",
    "    \n",
    "<h1 style=\"text-align: center;font-weight: bold\">Programmation des fonctions et procédures</h>\n",
    "    \n",
    "</div>"
   ]
  },
  {
   "cell_type": "markdown",
   "metadata": {},
   "source": [
    "\n",
    "<h2 class='fa fa-commenting' style=\"color: darkgreen\"> A Lire </h2>\n",
    "\n",
    "Nous pouvons distinguer 3 types de programmes :\n",
    "\n",
    "* **Les séries d’instructions**\n",
    "\n",
    "    On demande simplement à l’ordinateur d’effectuer un certain nombre d’opérations que l’on appelle aussi des instructions.\n",
    "    \n",
    "```\n",
    "instruction 1\n",
    "instruction 2\n",
    ".\n",
    ".\n",
    "instruction n\n",
    "```\n",
    "\n",
    "<h4 class='fa fa-code' style=\"color: darkblue\"> Exemple : Test de la parité d’un nombre en instruction.</h4>  \n",
    "\n"
   ]
  },
  {
   "cell_type": "code",
   "execution_count": 1,
   "metadata": {},
   "outputs": [
    {
     "name": "stdout",
     "output_type": "stream",
     "text": [
      "Choisissez un nombre entier2\n",
      "2  est une nombre pair\n"
     ]
    }
   ],
   "source": [
    "a = int(input(\"Choisissez un nombre entier\")) # Le programme demande de choisir un entier\n",
    "\n",
    "if a % 2 == 0 :\n",
    "    print(a,\" est une nombre pair\") # Le programme affiche si l’entier choisi\n",
    "    \n",
    "else : \n",
    "    print(a,\" est une nombre impair\") # est pair ou impair"
   ]
  },
  {
   "cell_type": "markdown",
   "metadata": {},
   "source": [
    "* **Les procédures**\n",
    "\n",
    "    Une procédure est une série d’instructions :\n",
    "    \n",
    "        • qui porte un nom\n",
    "        \n",
    "        • qui effectue un travail dont le résultat dépend de variables (appelées arguments)\n",
    "        \n",
    "        • qui ne renvoie pas de résultat.\n",
    "    \n",
    "Pour définir une procédure, on utilise la commande def.\n",
    "\n",
    "```\n",
    "def nom_de_la_procedure(var1, var2 ...):          # les variables des arguments\n",
    "\n",
    "    instruction 1                                 # une indentation de 4 espaces est obligatoire\n",
    "    instruction 2 \n",
    "    . \n",
    "    .\n",
    "# une procédure ne renvoie rien\n",
    "```\n",
    "Mais si elle ne retourne pas de valeur, que fait-elle ?\n",
    "\n",
    "Elle peut faire plein de choses, par exemple elle peut tout simplement afficher un texte.\n",
    "\n",
    "Sachez que dans certains langages, on utilise les termes méthode ou procédure pour qualifier une\n",
    "fonction \"qui ne retourne rien\".\n",
    "\n",
    "\n"
   ]
  },
  {
   "cell_type": "markdown",
   "metadata": {},
   "source": [
    "<h4 class='fa fa-code' style=\"color: darkblue\"> Exemple : Une procédure qui affiche du texte.</h4>  "
   ]
  },
  {
   "cell_type": "code",
   "execution_count": 33,
   "metadata": {},
   "outputs": [],
   "source": [
    "def ditBonjour(nom,age):\n",
    "    \n",
    "    phrase = f\"Bonjour {nom}, vous avez {age} ans.\"\n",
    "\n",
    "    print (phrase) \n",
    "\n"
   ]
  },
  {
   "cell_type": "code",
   "execution_count": 34,
   "metadata": {},
   "outputs": [
    {
     "name": "stdout",
     "output_type": "stream",
     "text": [
      "Bonjour Toto, vous avez 11 ans.\n"
     ]
    }
   ],
   "source": [
    "ditBonjour(\"Toto\",11)"
   ]
  },
  {
   "cell_type": "markdown",
   "metadata": {},
   "source": [
    "<h4 class='fa fa-code' style=\"color: darkblue\"> Exemple : Test de la parité d’un nombre en procédure interactive.</h4>  "
   ]
  },
  {
   "cell_type": "code",
   "execution_count": 5,
   "metadata": {},
   "outputs": [],
   "source": [
    "def nombrepaire ()  :\n",
    "\n",
    "    a = int(input(\"Choisissez un nombre entier\")) # Le programme demande de choisir un entier\n",
    "\n",
    "    if a % 2 == 0 :\n",
    "        print(a,\" est une nombre pair\") # Le programme affiche si l’entier choisi\n",
    "    \n",
    "    else : \n",
    "        print(a,\" est une nombre impair\") # est pair ou impair"
   ]
  },
  {
   "cell_type": "code",
   "execution_count": 7,
   "metadata": {},
   "outputs": [
    {
     "name": "stdout",
     "output_type": "stream",
     "text": [
      "Choisissez un nombre entier2\n",
      "2  est une nombre pair\n"
     ]
    }
   ],
   "source": [
    "nombrepaire()"
   ]
  },
  {
   "cell_type": "markdown",
   "metadata": {
    "id": "su0FF5h-NPbG"
   },
   "source": [
    "On remarque que ce programme ne renvoie rien, et se contente d’afficher un résultat à l’écran. \n"
   ]
  },
  {
   "cell_type": "markdown",
   "metadata": {},
   "source": [
    "* **Les fonctions**\n",
    "\n",
    "    Une fonction est une série d’instructions :\n",
    "    \n",
    "        • qui porte un nom\n",
    "        \n",
    "        • qui effectue un travail dont le résultat dépend de variables (appelées arguments)\n",
    "        \n",
    "        • qui renvoie une valeur que l’on peut stocker, si on le souhaite, dans une variable.\n",
    "\n",
    "Pour définir une procédure, on utilise la commande def et on renvoie une valeur grâce à la commande `return`.\n",
    "\n",
    "```\n",
    "def nom_de_la_procedure(var1, var2 ...):        # les variables sont des arguments\n",
    "\n",
    "    instruction 1                               # une indentation de 4 espaces est obligatoire\n",
    "    instruction 2 \n",
    "    . \n",
    "    return valeur                               # Une fonction renvoie une valeur\n",
    "   \n",
    "```\n"
   ]
  },
  {
   "cell_type": "markdown",
   "metadata": {},
   "source": [
    "<h4 class='fa fa-code' style=\"color: darkblue\"> Exemple : Test de la parité d’un nombre en fonction.</h4> \n"
   ]
  },
  {
   "cell_type": "code",
   "execution_count": 62,
   "metadata": {},
   "outputs": [],
   "source": [
    "def pair(a) :\n",
    "    \n",
    "    if a%2 == 0 : \n",
    "        return True\n",
    "    \n",
    "    else : \n",
    "        return False"
   ]
  },
  {
   "cell_type": "code",
   "execution_count": 63,
   "metadata": {},
   "outputs": [
    {
     "data": {
      "text/plain": [
       "False"
      ]
     },
     "execution_count": 63,
     "metadata": {},
     "output_type": "execute_result"
    }
   ],
   "source": [
    "pair(5)"
   ]
  },
  {
   "cell_type": "markdown",
   "metadata": {},
   "source": [
    "L’instruction pair(4) renvoie `True` tandis que pair(5) renvoie `False`."
   ]
  },
  {
   "cell_type": "markdown",
   "metadata": {},
   "source": [
    "<h4 class='fa fa-code' style=\"color: darkblue\"> Exemple : Exemple de sous fonction.</h4> "
   ]
  },
  {
   "cell_type": "code",
   "execution_count": 85,
   "metadata": {},
   "outputs": [],
   "source": [
    "##### D´efinition des sous-fonctions\n",
    "\n",
    "def somme(x,y): # Renvoie la somme de 2 nombres\n",
    "    \n",
    "    return x+y\n",
    "\n",
    "def produit(x,y): # Renvoie le produit de 2 nombres\n",
    "    \n",
    "    return x*y\n",
    "\n",
    "\n",
    "##### D´efinition de la fonction principale\n",
    "\n",
    "def calcul(x,y): # Renvoie le double de la somme de 2 nombres\n",
    "    \n",
    "    a = produit (somme(x,y),2)\n",
    "    return a\n",
    "    \n",
    "       \n"
   ]
  },
  {
   "cell_type": "code",
   "execution_count": 86,
   "metadata": {},
   "outputs": [
    {
     "data": {
      "text/plain": [
       "10"
      ]
     },
     "execution_count": 86,
     "metadata": {},
     "output_type": "execute_result"
    }
   ],
   "source": [
    "calcul (2,3)"
   ]
  },
  {
   "cell_type": "markdown",
   "metadata": {},
   "source": [
    "<h2 class='fa fa-cogs' style=\"color: darkorange\"> Exercices n°1 - Begayement</h2> \n"
   ]
  },
  {
   "cell_type": "markdown",
   "metadata": {},
   "source": [
    "<div style=\"width:100%;border-collapse:separate;border:solid 2px;border-radius:14px;\" class = \"alert alert-success\">\n",
    "Un être humain et un chien ne vieillissent pas de la même manière. \n",
    "\n",
    "Pour déterminer l’équivalent humain de l’âge d’un chien de moins de 15 kg, on utilise le tableau cidessous, où x représente l’âge réel de l’animal (en années), et y l’équivalent humain en terme de vieillissement. \n",
    "\n",
    "Ecrire une fonction ageHumain qui prend en paramètre l'âge d'un chien, sous forme d'un entier, et renvoie l'âge humain correspondant.\n",
    "</div>\n",
    "\n",
    "\n",
    "****\n",
    "<table>\n",
    "    \n",
    "  <tr>\n",
    "    <th style=\"text-align: center; background-color: #87AFC7\">X</th>\n",
    "    <th></th>\n",
    "    <th style=\"text-align: center; background-color: #87AFC7\">Y</th>\n",
    "    \n",
    "  </tr>\n",
    "  <tr>\n",
    "    <td style=\"text-align: left; background-color: #E0FFFF\">moins de 2 ans</td>\n",
    "    <td></td>\n",
    "    <td style=\"text-align: left; background-color: #E0FFFF\">8x + 12</td>\n",
    "  </tr>  \n",
    "  <tr>\n",
    "    <td style=\"text-align: left; background-color: #E0FFFF\">de 2 à 17</td>\n",
    "    <td></td>\n",
    "    <td style=\"text-align: left; background-color: #E0FFFF\">4x + 20</td> \n",
    "  </tr>\n",
    "    <tr>\n",
    "    <td style=\"text-align: left; background-color: #E0FFFF\">de 17 à 19</td>\n",
    "    <td></td>\n",
    "    <td style=\"text-align: left; background-color: #E0FFFF\">6x - 20</td> \n",
    "  </tr>\n",
    "    <tr>\n",
    "    <td style=\"text-align: left; background-color: #E0FFFF\">de 19 et plus</td>\n",
    "    <td></td>\n",
    "    <td style=\"text-align: left; background-color: #E0FFFF\">10x - 90</td> \n",
    "  </tr>\n",
    "</table>"
   ]
  },
  {
   "cell_type": "code",
   "execution_count": null,
   "metadata": {
    "colab": {
     "base_uri": "https://localhost:8080/",
     "height": 321
    },
    "collapsed": true,
    "executionInfo": {
     "elapsed": 1236,
     "status": "ok",
     "timestamp": 1594309104278,
     "user": {
      "displayName": "KESYD GAMES",
      "photoUrl": "https://lh3.googleusercontent.com/a-/AOh14GgH0FVOOR7eDPWJA11koJCojOXCUGb3ilJBF8HZ=s64",
      "userId": "16677664726129994607"
     },
     "user_tz": -120
    },
    "id": "RBFvrbPJOb4-",
    "outputId": "0e963d0a-36f0-4776-e4a0-e060a514201f"
   },
   "outputs": [],
   "source": []
  },
  {
   "cell_type": "markdown",
   "metadata": {
    "id": "su0FF5h-NPbG"
   },
   "source": [
    "<h2 class='fa fa-cogs' style=\"color: darkorange\"> Exercices n°2 - Compte à rebours</h2> \n"
   ]
  },
  {
   "cell_type": "markdown",
   "metadata": {},
   "source": [
    "<div style=\"width:100%;border-collapse:separate;border:solid 2px;border-radius:14px;\" class = \"alert alert-success\">\n",
    "Écrire une procédure nommée compte_a_rebours, qui affiche le décompte jusque 0 à partir d’un nombre donné en paramètre.</div>\n",
    "\n",
    "Exemple : \n",
    "\n",
    "```\n",
    ">>> compte_a_rebours(10)\n",
    "10\n",
    "9\n",
    "8\n",
    "7\n",
    "6\n",
    "5\n",
    "4\n",
    "3\n",
    "2\n",
    "1\n",
    "0\n",
    "```\n",
    "\n",
    "**Note** : dans le module `time` il existe une fonction sleep qui permet d’attendre un nombre de seconde passé en paramètre. Vous pouvez l’utiliser afin de ralentir l’affichage.\n",
    "\n",
    "vous pouvez tester ce bout de code :\n",
    "\n",
    "```python\n",
    "import time\n",
    "\n",
    "print(\"Print immédiatement.\")\n",
    "time.sleep(2.4)\n",
    "print(\"Print après 2.4 secondes.\")\n",
    "```"
   ]
  },
  {
   "cell_type": "code",
   "execution_count": 90,
   "metadata": {},
   "outputs": [
    {
     "name": "stdout",
     "output_type": "stream",
     "text": [
      "Print immédiatement.\n",
      "Print après 2.4 secondes.\n"
     ]
    }
   ],
   "source": [
    "import time\n",
    "\n",
    "print(\"Print immédiatement.\")\n",
    "time.sleep(2.4)\n",
    "print(\"Print après 2.4 secondes.\")\n"
   ]
  },
  {
   "cell_type": "markdown",
   "metadata": {
    "id": "su0FF5h-NPbG"
   },
   "source": [
    "<h2 class='fa fa-cogs' style=\"color: darkorange\"> Exercices n°3 - Table de multiplication</h2> \n"
   ]
  },
  {
   "cell_type": "markdown",
   "metadata": {},
   "source": [
    "<div style=\"width:100%;border-collapse:separate;border:solid 2px;border-radius:14px;\" class = \"alert alert-success\">\n",
    "Écrire une procédure imprimer_table, qui affiche la table de multiplication par un nombre k sous la forme donnée ci-après.</div>\n",
    "\n",
    "\n",
    "Exemple : \n",
    "\n",
    "```\n",
    ">>> imprimer_table(7)\n",
    "7 x 1 = 7\n",
    "7 x 2 = 14\n",
    "7 x 3 = 21\n",
    "7 x 4 = 28\n",
    "7 x 5 = 35\n",
    "7 x 6 = 42\n",
    "7 x 7 = 49\n",
    "7 x 8 = 56\n",
    "7 x 9 = 63\n",
    "7 x 10 = 70\n",
    "```"
   ]
  },
  {
   "cell_type": "code",
   "execution_count": null,
   "metadata": {
    "id": "jh1C-371uyhS"
   },
   "outputs": [],
   "source": [
    "def estTriee(L: list ) -> bool :\n",
    "    pass\n"
   ]
  },
  {
   "cell_type": "markdown",
   "metadata": {
    "id": "su0FF5h-NPbG"
   },
   "source": [
    "<h2 class='fa fa-cogs' style=\"color: darkorange\"> Exercices n°4 - Problème particulier </h2> \n"
   ]
  },
  {
   "cell_type": "markdown",
   "metadata": {},
   "source": [
    "<div style=\"width:100%;border-collapse:separate;border:solid 2px;border-radius:14px;\" class = \"alert alert-success\">\n",
    "Le gardien d’un phare va aux toilettes cinq fois par jour. \n",
    "    \n",
    "Or les WC sont au rez-de-chaussée…\n",
    "    \n",
    "Écrire une fonction nommée hauteur_phare_parcourue qui reçoit deux paramètres, le nombre entier\n",
    "n de marches du phare et la hauteur entière h de chaque marche (en cm), et qui retourne la hauteur\n",
    "parcourue par semaine.\n",
    "    \n",
    "On n'oubliera pas :\n",
    "    \n",
    "• qu'une semaine comporte 7 jours ;\n",
    "    \n",
    "• qu'une fois en bas, le gardien doit remonter ;\n",
    "    \n",
    "• que le résultat est à exprimer en m.\n",
    "    \n",
    "</div>\n",
    "\n",
    "\n"
   ]
  }
 ],
 "metadata": {
  "colab": {
   "authorship_tag": "ABX9TyP/ocwKOTEVDTC3rtP/ikST",
   "collapsed_sections": [],
   "name": "RecursiviteDecouverte.ipynb",
   "provenance": [],
   "toc_visible": true
  },
  "kernelspec": {
   "display_name": "Python 3",
   "language": "python",
   "name": "python3"
  },
  "language_info": {
   "codemirror_mode": {
    "name": "ipython",
    "version": 3
   },
   "file_extension": ".py",
   "mimetype": "text/x-python",
   "name": "python",
   "nbconvert_exporter": "python",
   "pygments_lexer": "ipython3",
   "version": "3.7.6"
  }
 },
 "nbformat": 4,
 "nbformat_minor": 1
}
